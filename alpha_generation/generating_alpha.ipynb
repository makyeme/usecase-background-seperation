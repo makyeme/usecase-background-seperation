{
 "cells": [
  {
   "cell_type": "markdown",
   "id": "daf1d9ab",
   "metadata": {},
   "source": [
    "## Import modules"
   ]
  },
  {
   "cell_type": "code",
   "execution_count": null,
   "id": "0b455c8c",
   "metadata": {},
   "outputs": [],
   "source": [
    "from demo import np_to_torch, pred, scale_input\n",
    "from dataloader import read_image, read_trimap\n",
    "from networks.models import build_model\n",
    "import torch\n",
    "import numpy as np\n",
    "import cv2\n",
    "import matplotlib.pyplot as plt\n",
    "from duts import DutsDataset, DutsImage\n",
    "from PIL import Image\n",
    "from generate_trimap import show_step, find_trimap, save_trimap"
   ]
  },
  {
   "cell_type": "markdown",
   "id": "d83d0f2c",
   "metadata": {},
   "source": [
    "## Generate trimap & save trimap"
   ]
  },
  {
   "cell_type": "code",
   "execution_count": null,
   "id": "f5dc38cd",
   "metadata": {},
   "outputs": [],
   "source": [
    "# path to image\n",
    "my_path = '/path/to/image'\n",
    "#path to save trimap output\n",
    "out_path = '/path/to/output'\n",
    "#genarate trimap\n",
    "find_trimap(my_path, show_steps=False)\n",
    "#save trimap\n",
    "save_trimap(tri, str(out_path))"
   ]
  },
  {
   "cell_type": "markdown",
   "id": "a95e53a4",
   "metadata": {},
   "source": [
    "## Import image and trimap"
   ]
  },
  {
   "cell_type": "code",
   "execution_count": null,
   "id": "0d9fa5b2",
   "metadata": {},
   "outputs": [],
   "source": [
    "#Image\n",
    "image = read_image(str(my_path))\n",
    "#Trimap\n",
    "my_trimap = read_trimap(str(out_path))"
   ]
  },
  {
   "cell_type": "markdown",
   "id": "750ef298",
   "metadata": {},
   "source": [
    "## Plot image & trimap"
   ]
  },
  {
   "cell_type": "code",
   "execution_count": null,
   "id": "058b4e12",
   "metadata": {},
   "outputs": [],
   "source": [
    "plt.title('Input Image')\n",
    "plt.imshow(image)\n",
    "plt.show()\n",
    "\n",
    "# transform two channel trimap back to single channel\n",
    "greyzone = (1-np.sum(my_trimap,-1))/2\n",
    "foreground = my_trimap[:,:,1]\n",
    "trimap_im = foreground + greyzone\n",
    "#trimap_im =  two_channel_trimap[:,:,1] + (1-np.sum(two_channel_trimap,-1))/2\n",
    "plt.title('Trimap')\n",
    "plt.imshow(trimap_im, cmap='gray', vmin=0, vmax=1)\n",
    "plt.show()"
   ]
  },
  {
   "cell_type": "markdown",
   "id": "ec57aa2d",
   "metadata": {},
   "source": [
    " ## Setting up FB model"
   ]
  },
  {
   "cell_type": "code",
   "execution_count": null,
   "id": "415f5862",
   "metadata": {},
   "outputs": [],
   "source": [
    "class Args:\n",
    "  encoder = 'resnet50_GN_WS'\n",
    "  decoder = 'fba_decoder'\n",
    "  weights = 'FBA.pth'\n",
    "args=Args()\n",
    "\n",
    "model = build_model(args)"
   ]
  },
  {
   "cell_type": "markdown",
   "id": "895cc24a",
   "metadata": {},
   "source": [
    "## Predicting Alpha matte"
   ]
  },
  {
   "cell_type": "code",
   "execution_count": null,
   "id": "40030878",
   "metadata": {},
   "outputs": [],
   "source": [
    "fg, bg, alpha = pred(image, my_trimap, model)"
   ]
  },
  {
   "cell_type": "markdown",
   "id": "8d13a3b1",
   "metadata": {},
   "source": [
    "## Plotting dimensions"
   ]
  },
  {
   "cell_type": "code",
   "execution_count": null,
   "id": "9a532eaf",
   "metadata": {},
   "outputs": [],
   "source": [
    "plt.title('Alpha Matte')\n",
    "plt.imshow(alpha, cmap='gray', vmin=0, vmax=1)\n",
    "plt.show()\n",
    "plt.title('Foreground')\n",
    "plt.imshow(fg)\n",
    "plt.show()\n",
    "plt.title('Background')\n",
    "plt.imshow(bg)\n",
    "plt.show()\n",
    "plt.title('Composite')\n",
    "plt.imshow(fg*alpha[:,:,None])\n",
    "plt.show()"
   ]
  }
 ],
 "metadata": {
  "kernelspec": {
   "display_name": "Python 3",
   "language": "python",
   "name": "python3"
  },
  "language_info": {
   "codemirror_mode": {
    "name": "ipython",
    "version": 3
   },
   "file_extension": ".py",
   "mimetype": "text/x-python",
   "name": "python",
   "nbconvert_exporter": "python",
   "pygments_lexer": "ipython3",
   "version": "3.8.8"
  }
 },
 "nbformat": 4,
 "nbformat_minor": 5
}
